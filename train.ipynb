{
 "cells": [
  {
   "cell_type": "code",
   "execution_count": 1,
   "id": "a39d2c78-1554-4ee6-bbc3-e52f9580792a",
   "metadata": {},
   "outputs": [],
   "source": [
    "from simple_net import SimpleNet, SimpleNetV2\n",
    "from dataset import MurmurDataset\n",
    "from torch import nn\n",
    "from torch.autograd import Variable\n",
    "import torch.nn.functional as F\n",
    "import numpy as np\n",
    "import torch\n",
    "from torch.utils.data import DataLoader\n",
    "import time\n",
    "from tqdm import tqdm"
   ]
  },
  {
   "cell_type": "code",
   "execution_count": 2,
   "id": "dc4729e3-b83d-43b3-b673-49ef4a32365c",
   "metadata": {},
   "outputs": [
    {
     "data": {
      "text/plain": [
       "torch.Size([1, 32, 1])"
      ]
     },
     "execution_count": 2,
     "metadata": {},
     "output_type": "execute_result"
    }
   ],
   "source": [
    "net = SimpleNetV2()\n",
    "net(torch.ones(1,1,10_000)).shape"
   ]
  },
  {
   "cell_type": "code",
   "execution_count": 7,
   "id": "9e457919-a540-40ab-b876-593cf028755c",
   "metadata": {},
   "outputs": [
    {
     "name": "stdout",
     "output_type": "stream",
     "text": [
      "132804\n"
     ]
    },
    {
     "data": {
      "text/plain": [
       "SimpleNetV2(\n",
       "  (conv_1): Conv1d(1, 32, kernel_size=(32,), stride=(2,), padding=(15,), padding_mode=reflect)\n",
       "  (norm_1): BatchNorm1d(32, eps=1e-05, momentum=0.1, affine=True, track_running_stats=True)\n",
       "  (act_1): GELU(approximate='none')\n",
       "  (conv_2): Conv1d(32, 32, kernel_size=(32,), stride=(2,), padding=(15,), padding_mode=reflect)\n",
       "  (norm_2): BatchNorm1d(32, eps=1e-05, momentum=0.1, affine=True, track_running_stats=True)\n",
       "  (act_2): GELU(approximate='none')\n",
       "  (conv_3): Conv1d(32, 64, kernel_size=(32,), stride=(2,), padding=(15,), padding_mode=reflect)\n",
       "  (norm_3): BatchNorm1d(64, eps=1e-05, momentum=0.1, affine=True, track_running_stats=True)\n",
       "  (act_3): GELU(approximate='none')\n",
       "  (conv_4): Conv1d(64, 1, kernel_size=(1,), stride=(1,), padding_mode=reflect)\n",
       "  (norm_4): BatchNorm1d(1, eps=1e-05, momentum=0.1, affine=True, track_running_stats=True)\n",
       "  (act_4): GELU(approximate='none')\n",
       "  (pool): AdaptiveAvgPool1d(output_size=256)\n",
       "  (fc_1): Linear(in_features=256, out_features=128, bias=True)\n",
       "  (fc_2): Linear(in_features=128, out_features=1, bias=True)\n",
       ")"
      ]
     },
     "execution_count": 7,
     "metadata": {},
     "output_type": "execute_result"
    }
   ],
   "source": [
    "model = SimpleNetV2()\n",
    "def count_parameters(model):\n",
    "    return sum(p.numel() for p in model.parameters() if p.requires_grad)\n",
    "print(count_parameters(model))\n",
    "model"
   ]
  },
  {
   "cell_type": "code",
   "execution_count": 3,
   "id": "437d5f67-db17-4f5a-ba2e-295f275568e3",
   "metadata": {},
   "outputs": [],
   "source": [
    "num_epochs = 10\n",
    "batch_size = 32\n",
    "learning_rate = 1e-3\n",
    "\n",
    "dataset = MurmurDataset()"
   ]
  },
  {
   "cell_type": "code",
   "execution_count": 4,
   "id": "f8d0296f-4ba7-4e6c-ade4-551de59dce6c",
   "metadata": {},
   "outputs": [
    {
     "name": "stderr",
     "output_type": "stream",
     "text": [
      "533it [02:05,  4.23it/s]\n"
     ]
    },
    {
     "name": "stdout",
     "output_type": "stream",
     "text": [
      "Epoch took 125.9249s\n",
      "Expected hours to train: 0.34979152745670744\n",
      "epoch [1/10]\n",
      "0.26562\n"
     ]
    },
    {
     "name": "stderr",
     "output_type": "stream",
     "text": [
      "533it [02:12,  4.01it/s]\n",
      "533it [02:23,  3.70it/s]\n",
      "533it [02:32,  3.51it/s]\n",
      "533it [02:22,  3.74it/s]\n",
      "533it [02:41,  3.30it/s]\n"
     ]
    },
    {
     "name": "stdout",
     "output_type": "stream",
     "text": [
      "epoch [6/10]\n",
      "0.24741\n"
     ]
    },
    {
     "name": "stderr",
     "output_type": "stream",
     "text": [
      "533it [02:39,  3.34it/s]\n",
      "533it [02:46,  3.21it/s]\n",
      "533it [02:48,  3.17it/s]\n",
      "533it [02:52,  3.09it/s]\n"
     ]
    }
   ],
   "source": [
    "dataloader = DataLoader(dataset, batch_size=batch_size, shuffle=False)\n",
    "\n",
    "model = SimpleNet()\n",
    "criterion = nn.BCELoss()\n",
    "optimizer = torch.optim.RMSprop(model.parameters(), lr=learning_rate, weight_decay=1e-5)\n",
    "\n",
    "model.train()\n",
    "for epoch in range(num_epochs):\n",
    "    start = time.time()\n",
    "\n",
    "    for i, data in tqdm(enumerate(dataloader)):\n",
    "        # import pdb; pdb.set_trace()\n",
    "        sample = data[0].unsqueeze(1)\n",
    "        sample = Variable(sample).float()\n",
    "\n",
    "        expected_output= data[1].float()\n",
    "        output = model(sample).squeeze(1,2)\n",
    "        # import pdb;pdb.set_trace()\n",
    "        loss = criterion(output, expected_output)\n",
    "        \n",
    "        optimizer.zero_grad()\n",
    "        loss.backward()\n",
    "        optimizer.step()\n",
    "\n",
    "    if epoch == 0:\n",
    "        time_diff = time.time() - start\n",
    "        print(f'Epoch took {round(time_diff, 4)}s')\n",
    "        print(f'Expected hours to train: {time_diff * num_epochs / 3600 }')\n",
    "    if epoch % 5 == 0:\n",
    "        print(f'epoch [{epoch+1}/{num_epochs}]')\n",
    "        print(round(loss.item(), 5))"
   ]
  },
  {
   "cell_type": "code",
   "execution_count": 5,
   "id": "8793d2ee-77bb-46dc-9b9a-39c45f89ef95",
   "metadata": {},
   "outputs": [],
   "source": [
    "torch.save(model, 'simple.pt')"
   ]
  },
  {
   "cell_type": "code",
   "execution_count": 6,
   "id": "1753519c-5e45-4c33-be53-a433f9c42ffe",
   "metadata": {},
   "outputs": [
    {
     "data": {
      "text/plain": [
       "tensor([[[ 4.1921e-06,  2.3549e-06,  4.4300e-07,  ...,  7.8026e-04,\n",
       "          -1.8907e-05, -1.2730e-03]],\n",
       "\n",
       "        [[ 2.6557e-04,  2.4906e-04,  2.3256e-04,  ...,  3.7126e-03,\n",
       "          -1.1970e-02, -1.8024e-02]],\n",
       "\n",
       "        [[-2.7016e-04, -1.3597e-04,  1.9680e-04,  ...,  1.5009e-05,\n",
       "          -3.0702e-06, -1.0368e-05]],\n",
       "\n",
       "        ...,\n",
       "\n",
       "        [[-4.5361e-06,  4.7199e-04,  9.7559e-04,  ..., -7.9938e-03,\n",
       "          -3.4422e-03, -2.0001e-03]],\n",
       "\n",
       "        [[-2.0687e-07, -9.1591e-07, -1.5288e-06,  ...,  0.0000e+00,\n",
       "           0.0000e+00,  0.0000e+00]],\n",
       "\n",
       "        [[ 2.5652e-03,  2.5242e-03,  1.1701e-03,  ...,  8.7073e-05,\n",
       "          -2.2999e-03, -3.1000e-03]]])"
      ]
     },
     "execution_count": 6,
     "metadata": {},
     "output_type": "execute_result"
    }
   ],
   "source": [
    "sample"
   ]
  },
  {
   "cell_type": "code",
   "execution_count": 7,
   "id": "3d3a795d-47ba-41ba-a2d0-d10ac6adaac1",
   "metadata": {},
   "outputs": [
    {
     "data": {
      "text/plain": [
       "tensor([0., 1., 0., 1., 0., 1., 0., 1., 0., 1., 0., 1., 0., 1., 0., 1., 0., 1.,\n",
       "        0., 1.])"
      ]
     },
     "execution_count": 7,
     "metadata": {},
     "output_type": "execute_result"
    }
   ],
   "source": [
    "expected_output"
   ]
  },
  {
   "cell_type": "markdown",
   "id": "9572c989-bed0-49ea-9387-a9e474f77e9b",
   "metadata": {},
   "source": [
    "Output"
   ]
  },
  {
   "cell_type": "code",
   "execution_count": 9,
   "id": "8fa22d37-bbc7-4006-88b5-3875666a7d91",
   "metadata": {},
   "outputs": [
    {
     "data": {
      "text/plain": [
       "tensor([0.5449, 1.0000, 0.0969, 1.0000, 0.0039, 0.1587, 0.0327, 0.9995, 0.0018,\n",
       "        0.9470, 0.0392, 1.0000, 0.0353, 0.2567, 0.0385, 0.9989, 0.0378, 0.9992,\n",
       "        0.0384, 0.9965], grad_fn=<SqueezeBackward2>)"
      ]
     },
     "execution_count": 9,
     "metadata": {},
     "output_type": "execute_result"
    }
   ],
   "source": [
    "model(sample).squeeze(1,2)"
   ]
  },
  {
   "cell_type": "code",
   "execution_count": 10,
   "id": "b25ef19c-92ab-40c6-91ec-5e55e56db5a2",
   "metadata": {},
   "outputs": [
    {
     "data": {
      "text/plain": [
       "torch.Size([20, 1, 10000])"
      ]
     },
     "execution_count": 10,
     "metadata": {},
     "output_type": "execute_result"
    }
   ],
   "source": [
    "sample.shape"
   ]
  },
  {
   "cell_type": "code",
   "execution_count": null,
   "id": "dd11dcba-47e5-4d89-a93c-0b1a7d53815e",
   "metadata": {},
   "outputs": [],
   "source": []
  }
 ],
 "metadata": {
  "kernelspec": {
   "display_name": "Python 3 (ipykernel)",
   "language": "python",
   "name": "python3"
  },
  "language_info": {
   "codemirror_mode": {
    "name": "ipython",
    "version": 3
   },
   "file_extension": ".py",
   "mimetype": "text/x-python",
   "name": "python",
   "nbconvert_exporter": "python",
   "pygments_lexer": "ipython3",
   "version": "3.12.4"
  }
 },
 "nbformat": 4,
 "nbformat_minor": 5
}
